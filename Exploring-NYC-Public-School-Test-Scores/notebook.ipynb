{
 "cells": [
  {
   "cell_type": "markdown",
   "id": "fe0ea788-58dd-459e-8976-fafdb5c05c6d",
   "metadata": {},
   "source": [
    "![New York City schoolbus](schoolbus.jpg)\n",
    "\n",
    "Photo by [Jannis Lucas](https://unsplash.com/@jannis_lucas) on [Unsplash](https://unsplash.com).\n",
    "<br>\n",
    "\n",
    "Every year, American high school students take SATs, which are standardized tests intended to measure literacy, numeracy, and writing skills. There are three sections - reading, math, and writing, each with a **maximum score of 800 points**. These tests are extremely important for students and colleges, as they play a pivotal role in the admissions process.\n",
    "\n",
    "Analyzing the performance of schools is important for a variety of stakeholders, including policy and education professionals, researchers, government, and even parents considering which school their children should attend. \n",
    "\n",
    "You have been provided with a dataset called `schools.csv`, which is previewed below.\n",
    "\n",
    "You have been tasked with answering three key questions about New York City (NYC) public school SAT performance."
   ]
  },
  {
   "cell_type": "code",
   "execution_count": 3,
   "id": "d0eb4f16-5a99-460d-a5ba-706b7ef0bbe7",
   "metadata": {
    "executionCancelledAt": null,
    "executionTime": 53,
    "id": "bA5ajAmk7XH6",
    "lastExecutedAt": 1694166994771,
    "lastScheduledRunId": null,
    "lastSuccessfullyExecutedCode": "# Re-run this cell \nimport pandas as pd\n\n# Read in the data\nschools = pd.read_csv(\"schools.csv\")\n\n# Preview the data\nschools.head()\n\n# Start coding here...",
    "outputsMetadata": {
     "0": {
      "height": 239,
      "type": "dataFrame"
     }
    }
   },
   "outputs": [
    {
     "data": {
      "application/com.datacamp.data-table.v1+json": {
       "table": {
        "data": [
         {
          "average_math": 657,
          "average_reading": 601,
          "average_writing": 601,
          "borough": "Manhattan",
          "building_code": "M022",
          "index": 0,
          "percent_tested": null,
          "school_name": "New Explorations into Science, Technology and Math High School"
         },
         {
          "average_math": 395,
          "average_reading": 411,
          "average_writing": 387,
          "borough": "Manhattan",
          "building_code": "M445",
          "index": 1,
          "percent_tested": 78.9,
          "school_name": "Essex Street Academy"
         },
         {
          "average_math": 418,
          "average_reading": 428,
          "average_writing": 415,
          "borough": "Manhattan",
          "building_code": "M445",
          "index": 2,
          "percent_tested": 65.1,
          "school_name": "Lower Manhattan Arts Academy"
         },
         {
          "average_math": 613,
          "average_reading": 453,
          "average_writing": 463,
          "borough": "Manhattan",
          "building_code": "M445",
          "index": 3,
          "percent_tested": 95.9,
          "school_name": "High School for Dual Language and Asian Studies"
         },
         {
          "average_math": 410,
          "average_reading": 406,
          "average_writing": 381,
          "borough": "Manhattan",
          "building_code": "M056",
          "index": 4,
          "percent_tested": 59.7,
          "school_name": "Henry Street School for International Studies"
         }
        ],
        "schema": {
         "fields": [
          {
           "name": "index",
           "type": "integer"
          },
          {
           "name": "school_name",
           "type": "string"
          },
          {
           "name": "borough",
           "type": "string"
          },
          {
           "name": "building_code",
           "type": "string"
          },
          {
           "name": "average_math",
           "type": "integer"
          },
          {
           "name": "average_reading",
           "type": "integer"
          },
          {
           "name": "average_writing",
           "type": "integer"
          },
          {
           "name": "percent_tested",
           "type": "number"
          }
         ],
         "pandas_version": "1.4.0",
         "primaryKey": [
          "index"
         ]
        }
       },
       "total_rows": 5,
       "truncation_type": null
      },
      "text/html": [
       "<div>\n",
       "<style scoped>\n",
       "    .dataframe tbody tr th:only-of-type {\n",
       "        vertical-align: middle;\n",
       "    }\n",
       "\n",
       "    .dataframe tbody tr th {\n",
       "        vertical-align: top;\n",
       "    }\n",
       "\n",
       "    .dataframe thead th {\n",
       "        text-align: right;\n",
       "    }\n",
       "</style>\n",
       "<table border=\"1\" class=\"dataframe\">\n",
       "  <thead>\n",
       "    <tr style=\"text-align: right;\">\n",
       "      <th></th>\n",
       "      <th>school_name</th>\n",
       "      <th>borough</th>\n",
       "      <th>building_code</th>\n",
       "      <th>average_math</th>\n",
       "      <th>average_reading</th>\n",
       "      <th>average_writing</th>\n",
       "      <th>percent_tested</th>\n",
       "    </tr>\n",
       "  </thead>\n",
       "  <tbody>\n",
       "    <tr>\n",
       "      <th>0</th>\n",
       "      <td>New Explorations into Science, Technology and ...</td>\n",
       "      <td>Manhattan</td>\n",
       "      <td>M022</td>\n",
       "      <td>657</td>\n",
       "      <td>601</td>\n",
       "      <td>601</td>\n",
       "      <td>NaN</td>\n",
       "    </tr>\n",
       "    <tr>\n",
       "      <th>1</th>\n",
       "      <td>Essex Street Academy</td>\n",
       "      <td>Manhattan</td>\n",
       "      <td>M445</td>\n",
       "      <td>395</td>\n",
       "      <td>411</td>\n",
       "      <td>387</td>\n",
       "      <td>78.9</td>\n",
       "    </tr>\n",
       "    <tr>\n",
       "      <th>2</th>\n",
       "      <td>Lower Manhattan Arts Academy</td>\n",
       "      <td>Manhattan</td>\n",
       "      <td>M445</td>\n",
       "      <td>418</td>\n",
       "      <td>428</td>\n",
       "      <td>415</td>\n",
       "      <td>65.1</td>\n",
       "    </tr>\n",
       "    <tr>\n",
       "      <th>3</th>\n",
       "      <td>High School for Dual Language and Asian Studies</td>\n",
       "      <td>Manhattan</td>\n",
       "      <td>M445</td>\n",
       "      <td>613</td>\n",
       "      <td>453</td>\n",
       "      <td>463</td>\n",
       "      <td>95.9</td>\n",
       "    </tr>\n",
       "    <tr>\n",
       "      <th>4</th>\n",
       "      <td>Henry Street School for International Studies</td>\n",
       "      <td>Manhattan</td>\n",
       "      <td>M056</td>\n",
       "      <td>410</td>\n",
       "      <td>406</td>\n",
       "      <td>381</td>\n",
       "      <td>59.7</td>\n",
       "    </tr>\n",
       "  </tbody>\n",
       "</table>\n",
       "</div>"
      ],
      "text/plain": [
       "                                         school_name  ... percent_tested\n",
       "0  New Explorations into Science, Technology and ...  ...            NaN\n",
       "1                               Essex Street Academy  ...           78.9\n",
       "2                       Lower Manhattan Arts Academy  ...           65.1\n",
       "3    High School for Dual Language and Asian Studies  ...           95.9\n",
       "4      Henry Street School for International Studies  ...           59.7\n",
       "\n",
       "[5 rows x 7 columns]"
      ]
     },
     "execution_count": 3,
     "metadata": {},
     "output_type": "execute_result"
    }
   ],
   "source": [
    "# Re-run this cell \n",
    "import pandas as pd\n",
    "\n",
    "# Read in the data\n",
    "schools = pd.read_csv(\"schools.csv\")\n",
    "\n",
    "# Preview the data\n",
    "schools.head()\n",
    "\n",
    "# Start coding here...\n",
    "# Add as many cells as you like..."
   ]
  },
  {
   "cell_type": "code",
   "execution_count": 1,
   "id": "a59d75d4",
   "metadata": {},
   "outputs": [],
   "source": [
    "# Re-run this cell \n",
    "import pandas as pd\n",
    "\n",
    "# Read in the data\n",
    "schools = pd.read_csv(\"schools.csv\")\n",
    "\n",
    "# Preview the data\n",
    "schools.head()\n",
    "\n",
    "# Start coding here...\n",
    "\n",
    "# Which schools are best for math?\n",
    "best_math_schools = schools[schools[\"average_math\"] >= 640][[\"school_name\", \"average_math\"]].sort_values(\"average_math\", ascending=False)\n",
    "\n",
    "# Calculate total_SAT per school\n",
    "schools[\"total_SAT\"] = schools[\"average_math\"] + schools[\"average_reading\"] + schools[\"average_writing\"]\n",
    "\n",
    "# Who are the top 10 performing schools?\n",
    "top_10_schools = schools.sort_values(\"total_SAT\", ascending=False)[[\"school_name\", \"total_SAT\"]].head(10)\n",
    "\n",
    "# Which NYC borough has the highest standard deviation for total_SAT?\n",
    "boroughs = schools.groupby(\"borough\")[\"total_SAT\"].agg([\"count\", \"mean\", \"std\"]).round(2)\n",
    "\n",
    "# Filter for max std and make borough a column\n",
    "largest_std_dev = boroughs[boroughs[\"std\"] == boroughs[\"std\"].max()]\n",
    "\n",
    "# Rename the columns for clarity\n",
    "largest_std_dev = largest_std_dev.rename(columns={\"count\": \"num_schools\", \"mean\": \"average_SAT\", \"std\": \"std_SAT\"})\n",
    "\n",
    "# Optional: Move borough from index to column\n",
    "largest_std_dev.reset_index(inplace=True)"
   ]
  },
  {
   "cell_type": "code",
   "execution_count": null,
   "id": "c66eda4d",
   "metadata": {},
   "outputs": [],
   "source": []
  }
 ],
 "metadata": {
  "editor": "DataCamp Workspace",
  "kernelspec": {
   "display_name": "Python 3 (ipykernel)",
   "language": "python",
   "name": "python3"
  },
  "language_info": {
   "codemirror_mode": {
    "name": "ipython",
    "version": 3
   },
   "file_extension": ".py",
   "mimetype": "text/x-python",
   "name": "python",
   "nbconvert_exporter": "python",
   "pygments_lexer": "ipython3",
   "version": "3.11.5"
  }
 },
 "nbformat": 4,
 "nbformat_minor": 5
}
